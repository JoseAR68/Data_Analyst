{
 "cells": [
  {
   "cell_type": "markdown",
   "metadata": {},
   "source": [
    "NIVEL 1\n",
    "EJERCICIO 1\n",
    "\n",
    "Calculadora del índice de masa corporal\n",
    "\n",
    "Escriba una función que calcule el IMC por el usuario, es decir, quien la ejecute tendrá que introducir estos datos.\n",
    "\n",
    "La función debe clasificar el resultado en sus respectivas categorías."
   ]
  },
  {
   "cell_type": "code",
   "execution_count": 1,
   "metadata": {},
   "outputs": [
    {
     "name": "stdout",
     "output_type": "stream",
     "text": [
      "su peso es: 75.0 kg\n",
      "su altura es: 1.80 m\n",
      "su imc es: 23.1\n",
      "su tipo_imc es: Peso Normal\n"
     ]
    }
   ],
   "source": [
    "def datos(): \n",
    "    while True: \n",
    "        try:  \n",
    "            peso = float(input(\"Introduzca su peso en kg\"))\n",
    "            if peso <= 0:\n",
    "                print(\"Un peso de cero o menor no es valido. Intentelo de nuevo\")\n",
    "                continue\n",
    "            altura =  float(input(\"introduzca su altura en metros\"))\n",
    "            if altura <= 0:\n",
    "                print(\"Una altura de cero o menor no es valida. Intentelo de nuevo\")\n",
    "                continue\n",
    "            break\n",
    "        except ValueError:\n",
    "            print(\"Dato no valido. Introduzca un número\")\n",
    "\n",
    "    print(f\"su peso es: {peso:.1f} kg\")\n",
    "    print(f\"su altura es: {altura:.2f} m\") \n",
    "    return(peso,altura) \n",
    "\n",
    "def imc(peso,altura): \n",
    "    valor_imc = peso / (altura ** 2)\n",
    "        \n",
    "    print(f\"su imc es: {valor_imc:.1f}\")\n",
    "    return(valor_imc)\n",
    "\n",
    "def imc_tipo(valor_imc):\n",
    "    if valor_imc < 18.5:\n",
    "        tipo_imc = \"Peso Bajo\"\n",
    "    elif valor_imc < 24.9:\n",
    "        tipo_imc = \"Peso Normal\"\n",
    "    elif valor_imc < 29.9:\n",
    "        tipo_imc = \"Sobrepeso\"\n",
    "    else:\n",
    "        tipo_imc = \"Obesidad\"\n",
    "\n",
    "    print(f\"su tipo_imc es: {tipo_imc}\")\n",
    "\n",
    "def calculo_imc():\n",
    "    peso,altura = datos()\n",
    "    valor_imc = imc(peso,altura)\n",
    "    imc_tipo(valor_imc)\n",
    "calculo_imc()"
   ]
  },
  {
   "cell_type": "markdown",
   "metadata": {},
   "source": [
    "NIVEL 1 \n",
    "EJERCICIO 2\n",
    "\n",
    "Convertidor de temperaturas.\n",
    "\n",
    "Hay varias unidades de temperatura utilizadas en diferentes contextos y regiones. Los más comunes son Celsius (C), Fahrenheit (F) y Kelvin (K). También hay otras unidades como Rankine y Reaumur. Seleccione al menos 2 conversores,de modo que al introducir una temperatura, devuelva al menos dos conversiones."
   ]
  },
  {
   "cell_type": "code",
   "execution_count": 21,
   "metadata": {},
   "outputs": [
    {
     "name": "stdout",
     "output_type": "stream",
     "text": [
      "35.0 grados Celsius equivalen a:\n",
      "     95.0 grados Fahrenheit\n",
      "    308.1 grados Kelvin\n",
      "    554.7 grados Rankine\n",
      "     28.0 grados Reaumur\n"
     ]
    }
   ],
   "source": [
    "while True:\n",
    "    try:\n",
    "        celsius = float(input(\"introduce una temperatura en grados Celsius\"))\n",
    "        if celsius <= -273.15:\n",
    "            print(\"la temperatura debe ser superior a -273.15 grados celsius\")\n",
    "            print(\"Intentelo de nuevo\")\n",
    "        else:\n",
    "            break\n",
    "        \n",
    "    except ValueError:\n",
    "        print(\"Datos erroneos. Intentelo de nuevo\")\n",
    "\n",
    "fahrenheit = (celsius * 9/5) + 32\n",
    "kelvin = celsius + 273.15\n",
    "rankine = (celsius * 9/5) + 491.67\n",
    "reaumur = celsius * 4/5\n",
    "\n",
    "print(f\"{celsius:.1f} grados Celsius equivalen a:\")\n",
    "print(f\"{fahrenheit:9.1f} grados Fahrenheit\")       \n",
    "print(f\"{kelvin:9.1f} grados Kelvin\")\n",
    "print(f\"{rankine:9.1f} grados Rankine\")\n",
    "print(f\"{reaumur:9.1f} grados Reaumur\")            "
   ]
  },
  {
   "cell_type": "markdown",
   "metadata": {},
   "source": [
    "NIVEL 1\n",
    "EJERCICIO 3\n",
    "\n",
    "Contador de las palabras de un texto.\n",
    "\n",
    "Escribe una función que dado un texto, muestre las veces que aparece cada palabra."
   ]
  },
  {
   "cell_type": "code",
   "execution_count": 2,
   "metadata": {},
   "outputs": [],
   "source": [
    "import re\n",
    "from collections import Counter\n",
    "\n",
    "def contador_palabras(texto): \n",
    "\n",
    "    texto_limpio = re.sub(r'[^\\w\\s]', '', texto)\n",
    "    palabras_texto = texto_limpio.lower().split()\n",
    "\n",
    "    resultado = Counter(palabras_texto)\n",
    "\n",
    "    for k,v in sorted(resultado.items()):\n",
    "        print(f\"{k}: {v}\")"
   ]
  },
  {
   "cell_type": "code",
   "execution_count": null,
   "metadata": {},
   "outputs": [
    {
     "name": "stdout",
     "output_type": "stream",
     "text": [
      "cuyo: 1\n",
      "de: 2\n",
      "deco: 1\n",
      "dedo: 1\n",
      "en: 1\n",
      "la: 1\n",
      "lugar: 1\n",
      "mancha: 1\n",
      "nombre: 1\n",
      "un: 1\n"
     ]
    }
   ],
   "source": [
    "texto = \" En un lugar de la mancha de cuyo nombre...\"\n",
    "contador_palabras(texto)"
   ]
  },
  {
   "cell_type": "markdown",
   "metadata": {},
   "source": [
    "NIVEL 1\n",
    "EJERCICIO 4\n",
    "\n",
    "Diccionario inverso.\n",
    "\n",
    "Resulta que el cliente tiene una encuesta muy antigua que se almacena en un diccionario y los resultados necesitan ser invertidos, es decir, se intercambian las claves y los valores. Los valores y las claves del diccionario original son únicos; si no es así, la función debe ser impresa en un mensaje de advertencia."
   ]
  },
  {
   "cell_type": "code",
   "execution_count": null,
   "metadata": {},
   "outputs": [
    {
     "name": "stdout",
     "output_type": "stream",
     "text": [
      "{1: 'a', 2: 'b', 3: 'c'}\n"
     ]
    }
   ],
   "source": [
    "dictionary = {'a':1,'b':2,'c':3}\n",
    "\n",
    "lista_valores = list(dictionary.values())\n",
    "lista_valores_sin_duplicados = list(dict.fromkeys(lista_valores))\n",
    "\n",
    "if lista_valores == lista_valores_sin_duplicados:\n",
    "    dic_inverso = {v:k for k,v in dictionary.items()}\n",
    "    print(dic_inverso)\n",
    "else:\n",
    "    print(\"Error: multiple keys for one value\")"
   ]
  },
  {
   "cell_type": "markdown",
   "metadata": {},
   "source": [
    "NIVEL 2\n",
    "EJERCICIO 1\n",
    "\n",
    "Diccionario inverso con duplicados\n",
    "\n",
    "Continuando con el ejercicio 4 nivel del nivel 1: el cliente se ha olvidado de comentar un detalle y resulta que los valores en el diccionario original se pueden duplicar y, lo que es más importante, las claves se pueden duplicar. En este caso, en el ejercicio anterior, se imprimirá un mensaje de advertencia, ahora los valores del diccionario resultante tendrán que ser almacenados como lista. Tenga en cuenta que si se trata de un valor único, no debe ser una lista."
   ]
  },
  {
   "cell_type": "code",
   "execution_count": 3,
   "metadata": {},
   "outputs": [
    {
     "name": "stdout",
     "output_type": "stream",
     "text": [
      "{'apple': 'x', 'banana': ['y', 'z']}\n"
     ]
    }
   ],
   "source": [
    "from collections import Counter, defaultdict\n",
    "\n",
    "dic = {'x':'apple','y':'banana','z':'banana'}\n",
    "\n",
    "dic_veces_valor = Counter(dic.values())\n",
    "reverse_dictionary_plus = defaultdict(list)\n",
    "\n",
    "for k,v in dic.items():\n",
    "    if dic_veces_valor[v] == 1:\n",
    "        reverse_dictionary_plus[v] = k   \n",
    "    else:  \n",
    "        reverse_dictionary_plus[v].append(k)\n",
    "\n",
    "print(dict(reverse_dictionary_plus))"
   ]
  },
  {
   "cell_type": "markdown",
   "metadata": {},
   "source": [
    "NIVEL 2\n",
    "EJERCICIO 2\n",
    "\n",
    "Conversión del tipo de datos\n",
    "\n",
    "El cliente recibe una lista de datos y necesita generar dos listas, la primera en la que todos los elementos podrían convertirse en flotantes y el otro donde los elementos no pudieron ser convertidos. "
   ]
  },
  {
   "cell_type": "code",
   "execution_count": 4,
   "metadata": {},
   "outputs": [
    {
     "name": "stdout",
     "output_type": "stream",
     "text": [
      "[1.3, 10000000000.0, 2.0, 1.0, 1.4, 1.0, 2.0, 3.0, 3.4]\n",
      "['one', 'seven', '3-1/2', 'not-a-number']\n"
     ]
    }
   ],
   "source": [
    "conversion = ['1.3', 'one', '1e10', 'seven', '3-1/2', ('2',1,1.4,'not-a-number'),[1,2,'3','3.4']]\n",
    "\n",
    "flotantes = []\n",
    "no_flotantes = []\n",
    "\n",
    "for n in conversion:\n",
    "    if isinstance(n,(list,tuple)):\n",
    "        for item in n:\n",
    "            try:\n",
    "                flotantes.append(float(item))\n",
    "            except ValueError:\n",
    "                no_flotantes.append(item)\n",
    "\n",
    "    else:\n",
    "        try:\n",
    "            flotantes.append(float(n))\n",
    "        except ValueError:\n",
    "            no_flotantes.append(n)\n",
    "\n",
    "print(flotantes)\n",
    "print(no_flotantes)\n",
    "    "
   ]
  },
  {
   "cell_type": "markdown",
   "metadata": {},
   "source": [
    "NIVEL 3\n",
    "EJERCICIO 1\n",
    "\n",
    "Contador y editor de palabras de un texto.\n",
    "\n",
    "El cliente estaba contento con el contador de palabras, pero ahora quiere leer los archivos TXT y calcular la frecuencia de cada palabra en las letras habituales del diccionario, según la letra, es decir, las claves tienen que ir de la A a la Z y dentro de la A de la A a la Z."
   ]
  },
  {
   "cell_type": "code",
   "execution_count": null,
   "metadata": {},
   "outputs": [
    {
     "name": "stdout",
     "output_type": "stream",
     "text": [
      "a:\n",
      "   a: 3\n",
      "   agua: 1\n",
      "   al: 2\n",
      "   alba: 4\n",
      "   alcobas: 1\n",
      "   alimenta: 1\n",
      "   alma: 1\n",
      "   amarga: 1\n",
      "   azucena: 1\n",
      "\n",
      "b:\n",
      "   baco: 1\n",
      "   banquete: 1\n",
      "   bebe: 1\n",
      "   blanca: 3\n",
      "   boca: 1\n",
      "   bosques: 1\n",
      "   buen: 1\n",
      "\n",
      "c:\n",
      "   cabañas: 1\n",
      "   carnes: 2\n",
      "   casta: 3\n",
      "   cerrada: 1\n",
      "   con: 4\n",
      "   conservas: 1\n",
      "   copas: 1\n",
      "   corola: 1\n",
      "   corriste: 1\n",
      "   cuando: 2\n",
      "   cubierto: 1\n",
      "   cuerpo: 1\n",
      "   cuáles: 1\n",
      "\n",
      "d:\n",
      "   de: 8\n",
      "   dejaste: 1\n",
      "   del: 1\n",
      "   diga: 1\n",
      "   dios: 2\n",
      "   duerme: 1\n",
      "\n",
      "e:\n",
      "   el: 4\n",
      "   ellas: 1\n",
      "   en: 4\n",
      "   engaño: 1\n",
      "   enredada: 1\n",
      "   entonces: 1\n",
      "   escarcha: 1\n",
      "   espumas: 1\n",
      "   esqueleto: 1\n",
      "   estrago: 1\n",
      "\n",
      "f:\n",
      "   festejando: 1\n",
      "   filtrado: 1\n",
      "   frutos: 1\n",
      "\n",
      "h:\n",
      "   habla: 1\n",
      "   hacia: 1\n",
      "   haya: 1\n",
      "   hayas: 1\n",
      "   hermana: 1\n",
      "   hombre: 1\n",
      "   hubiste: 1\n",
      "   huye: 1\n",
      "\n",
      "i:\n",
      "   intacto: 1\n",
      "\n",
      "j:\n",
      "   jardines: 1\n",
      "\n",
      "l:\n",
      "   la: 3\n",
      "   labios: 1\n",
      "   las: 7\n",
      "   lo: 2\n",
      "   los: 4\n",
      "   luna: 1\n",
      "   lévate: 1\n",
      "   límpiate: 1\n",
      "\n",
      "m:\n",
      "   mano: 1\n",
      "   manos: 1\n",
      "   margarita: 1\n",
      "   me: 9\n",
      "   mi: 1\n",
      "   mieles: 1\n",
      "   milagros: 1\n",
      "   mojada: 1\n",
      "   montaña: 1\n",
      "   morados: 1\n",
      "\n",
      "n:\n",
      "   negros: 1\n",
      "   ni: 2\n",
      "   no: 1\n",
      "   nácar: 1\n",
      "   nívea: 2\n",
      "\n",
      "p:\n",
      "   perdone: 2\n",
      "   perfume: 1\n",
      "   por: 2\n",
      "   pretendes: 3\n",
      "   preténdeme: 3\n",
      "   puesto: 1\n",
      "   pájaros: 1\n",
      "   pámpanos: 1\n",
      "\n",
      "q:\n",
      "   que: 6\n",
      "   quedó: 1\n",
      "   quieres: 6\n",
      "\n",
      "r:\n",
      "   rayo: 1\n",
      "   raíz: 1\n",
      "   renueva: 1\n",
      "   rocas: 1\n",
      "   rojo: 1\n",
      "\n",
      "s:\n",
      "   salitre: 1\n",
      "   se: 2\n",
      "   sea: 1\n",
      "   sean: 1\n",
      "   sobre: 2\n",
      "   sé: 1\n",
      "\n",
      "t:\n",
      "   te: 3\n",
      "   tejidos: 1\n",
      "   tenue: 1\n",
      "   tierra: 1\n",
      "   toca: 1\n",
      "   todas: 2\n",
      "   todavía: 1\n",
      "   tornadas: 1\n",
      "   tú: 8\n",
      "\n",
      "u:\n",
      "   un: 1\n",
      "   una: 1\n",
      "\n",
      "v:\n",
      "   vestido: 1\n",
      "   vete: 1\n",
      "   vive: 1\n",
      "\n",
      "y:\n",
      "   y: 5\n",
      "\n",
      "¡:\n",
      "   ¡me: 1\n",
      "\n"
     ]
    }
   ],
   "source": [
    "import string\n",
    "from collections import Counter,defaultdict\n",
    "\n",
    "with open(\"tu_me_quieres_blanca.txt\", \"r\") as archivo:\n",
    "    texto = archivo.read()\n",
    "\n",
    "translator = str.maketrans('', '', string.punctuation)\n",
    "lista_palabras = texto.translate(translator).lower().split()\n",
    "lista_palabras.sort()\n",
    "\n",
    "dic_num_palabras = Counter(lista_palabras)\n",
    "dic_resultado = defaultdict(dict)\n",
    "\n",
    "for palabra, num in dic_num_palabras.items():\n",
    "    dic_resultado[palabra[0]][palabra] = num\n",
    "    \n",
    "for letra, palabras in dic_resultado.items():\n",
    "    print(f\"{letra}:\")\n",
    "    for palabra,num in palabras.items():\n",
    "        print(f\"{' '*3}{palabra}: {num}\")\n",
    "    print()"
   ]
  }
 ],
 "metadata": {
  "kernelspec": {
   "display_name": "myenv",
   "language": "python",
   "name": "python3"
  },
  "language_info": {
   "codemirror_mode": {
    "name": "ipython",
    "version": 3
   },
   "file_extension": ".py",
   "mimetype": "text/x-python",
   "name": "python",
   "nbconvert_exporter": "python",
   "pygments_lexer": "ipython3",
   "version": "3.10.13"
  }
 },
 "nbformat": 4,
 "nbformat_minor": 2
}
